{
 "cells": [
  {
   "cell_type": "code",
   "execution_count": 1,
   "id": "6c7eec1a-4fb3-4c43-ae28-901c107a8f69",
   "metadata": {},
   "outputs": [],
   "source": [
    "import numpy as np"
   ]
  },
  {
   "cell_type": "code",
   "execution_count": 2,
   "id": "dcad14cd-e67d-41b9-ba04-7d1a7c4e0fd5",
   "metadata": {},
   "outputs": [],
   "source": [
    "a1 = np.zeros((2,3),dtype = float)"
   ]
  },
  {
   "cell_type": "code",
   "execution_count": null,
   "id": "74c0b261-f32d-439b-a048-d2524ed9a650",
   "metadata": {},
   "outputs": [
    {
     "data": {
      "text/plain": [
       "array([[0., 0., 0.],\n",
       "       [0., 0., 0.]])"
      ]
     },
     "execution_count": 4,
     "metadata": {},
     "output_type": "execute_result"
    }
   ],
   "source": [
    "a1"
   ]
  },
  {
   "cell_type": "code",
   "execution_count": null,
   "id": "07b23195-3472-49ef-a308-0f62157d9d30",
   "metadata": {},
   "outputs": [],
   "source": [
    "a2 = np.ones((3,4))"
   ]
  },
  {
   "cell_type": "code",
   "execution_count": null,
   "id": "422f421c-df51-4551-bb10-9b09ae72c1ec",
   "metadata": {},
   "outputs": [
    {
     "data": {
      "text/plain": [
       "array([[1., 1., 1., 1.],\n",
       "       [1., 1., 1., 1.],\n",
       "       [1., 1., 1., 1.]])"
      ]
     },
     "execution_count": 6,
     "metadata": {},
     "output_type": "execute_result"
    }
   ],
   "source": [
    "a2"
   ]
  },
  {
   "cell_type": "code",
   "execution_count": null,
   "id": "4cf915ff-bb09-4b15-a16b-068a486b0f42",
   "metadata": {},
   "outputs": [],
   "source": [
    "a3 = np.arange(1,10,0.1)"
   ]
  },
  {
   "cell_type": "code",
   "execution_count": null,
   "id": "b39d9a43-5388-48ea-9656-82317e0b2fe5",
   "metadata": {},
   "outputs": [
    {
     "data": {
      "text/plain": [
       "array([1. , 1.1, 1.2, 1.3, 1.4, 1.5, 1.6, 1.7, 1.8, 1.9, 2. , 2.1, 2.2,\n",
       "       2.3, 2.4, 2.5, 2.6, 2.7, 2.8, 2.9, 3. , 3.1, 3.2, 3.3, 3.4, 3.5,\n",
       "       3.6, 3.7, 3.8, 3.9, 4. , 4.1, 4.2, 4.3, 4.4, 4.5, 4.6, 4.7, 4.8,\n",
       "       4.9, 5. , 5.1, 5.2, 5.3, 5.4, 5.5, 5.6, 5.7, 5.8, 5.9, 6. , 6.1,\n",
       "       6.2, 6.3, 6.4, 6.5, 6.6, 6.7, 6.8, 6.9, 7. , 7.1, 7.2, 7.3, 7.4,\n",
       "       7.5, 7.6, 7.7, 7.8, 7.9, 8. , 8.1, 8.2, 8.3, 8.4, 8.5, 8.6, 8.7,\n",
       "       8.8, 8.9, 9. , 9.1, 9.2, 9.3, 9.4, 9.5, 9.6, 9.7, 9.8, 9.9])"
      ]
     },
     "execution_count": 17,
     "metadata": {},
     "output_type": "execute_result"
    }
   ],
   "source": [
    "a3"
   ]
  },
  {
   "cell_type": "code",
   "execution_count": null,
   "id": "7f0801f9-da48-42c2-a3d3-bbac7e74dbe5",
   "metadata": {},
   "outputs": [],
   "source": [
    "a4 = np.eye(6)"
   ]
  },
  {
   "cell_type": "code",
   "execution_count": null,
   "id": "c203c4c6-0195-43d0-aee7-7ac77a088785",
   "metadata": {},
   "outputs": [
    {
     "data": {
      "text/plain": [
       "array([[1., 0., 0., 0., 0., 0.],\n",
       "       [0., 1., 0., 0., 0., 0.],\n",
       "       [0., 0., 1., 0., 0., 0.],\n",
       "       [0., 0., 0., 1., 0., 0.],\n",
       "       [0., 0., 0., 0., 1., 0.],\n",
       "       [0., 0., 0., 0., 0., 1.]])"
      ]
     },
     "execution_count": 19,
     "metadata": {},
     "output_type": "execute_result"
    }
   ],
   "source": [
    "a4"
   ]
  },
  {
   "cell_type": "code",
   "execution_count": null,
   "id": "b876ed9b-2892-42ad-9a29-534df726462e",
   "metadata": {},
   "outputs": [
    {
     "data": {
      "text/plain": [
       "array([[0., 0., 0., 0., 0., 1.],\n",
       "       [0., 0., 0., 0., 1., 0.],\n",
       "       [0., 0., 0., 1., 0., 0.],\n",
       "       [0., 0., 1., 0., 0., 0.],\n",
       "       [0., 1., 0., 0., 0., 0.],\n",
       "       [1., 0., 0., 0., 0., 0.]])"
      ]
     },
     "execution_count": 20,
     "metadata": {},
     "output_type": "execute_result"
    }
   ],
   "source": [
    "a4[::-1]"
   ]
  },
  {
   "cell_type": "code",
   "execution_count": null,
   "id": "1544dbcc-ee10-4713-b88b-457c8608f090",
   "metadata": {},
   "outputs": [
    {
     "data": {
      "text/plain": [
       "array([0.81622937, 0.48337013, 0.4472835 , 0.74275662, 0.56632565,\n",
       "       0.71066252, 0.24653952, 0.41238777, 0.77488333, 0.33893046])"
      ]
     },
     "execution_count": 21,
     "metadata": {},
     "output_type": "execute_result"
    }
   ],
   "source": [
    "np.random.random(10) #生成随机数，模型运算参数的初始化方式一"
   ]
  },
  {
   "cell_type": "code",
   "execution_count": null,
   "id": "ce195289-40b9-42cf-82e8-c222903a924c",
   "metadata": {},
   "outputs": [
    {
     "data": {
      "text/plain": [
       "array([0.35155347, 0.81383269, 0.36289256, 0.49775634, 0.58133518,\n",
       "       0.18788614, 0.98450339, 0.35409664, 0.6669183 , 0.93557923,\n",
       "       0.72295367, 0.85107007])"
      ]
     },
     "execution_count": 24,
     "metadata": {},
     "output_type": "execute_result"
    }
   ],
   "source": [
    "np.random.random(12)"
   ]
  },
  {
   "cell_type": "code",
   "execution_count": null,
   "id": "802fe368-6d4a-49ab-983b-ec3634faecb2",
   "metadata": {},
   "outputs": [],
   "source": [
    "mu,sigma = 0,0.1"
   ]
  },
  {
   "cell_type": "code",
   "execution_count": null,
   "id": "1bf6c365-aac0-4561-b375-4c48d6df592e",
   "metadata": {},
   "outputs": [
    {
     "data": {
      "text/plain": [
       "array([ 0.03826443,  0.19648458, -0.12490621,  0.06225442, -0.06040458,\n",
       "        0.156909  ,  0.04205037, -0.04143591,  0.09366375,  0.05547306])"
      ]
     },
     "execution_count": 26,
     "metadata": {},
     "output_type": "execute_result"
    }
   ],
   "source": [
    "np.random.normal(mu,sigma,10) #模型参数初始化的方式二"
   ]
  },
  {
   "cell_type": "code",
   "execution_count": null,
   "id": "e18ffb1d-618b-4e13-87db-c591dba5ed39",
   "metadata": {},
   "outputs": [],
   "source": [
    "a6 = np.array([(1,2),(3,4),(5,6)])"
   ]
  },
  {
   "cell_type": "code",
   "execution_count": null,
   "id": "095afed8-90c2-4a22-96b3-fc5b8b70b7d9",
   "metadata": {},
   "outputs": [
    {
     "data": {
      "text/plain": [
       "array([[1, 2],\n",
       "       [3, 4],\n",
       "       [5, 6]])"
      ]
     },
     "execution_count": 28,
     "metadata": {},
     "output_type": "execute_result"
    }
   ],
   "source": [
    "a6"
   ]
  },
  {
   "cell_type": "code",
   "execution_count": null,
   "id": "bbca75ab-b69c-474d-8ef0-55db8fe4ddd6",
   "metadata": {},
   "outputs": [
    {
     "data": {
      "text/plain": [
       "array([2, 4, 6])"
      ]
     },
     "execution_count": 29,
     "metadata": {},
     "output_type": "execute_result"
    }
   ],
   "source": [
    "a6[:,1] #访问数组中的数据"
   ]
  },
  {
   "cell_type": "code",
   "execution_count": null,
   "id": "997739de-5ed0-470f-86d4-5508f63840f5",
   "metadata": {},
   "outputs": [
    {
     "data": {
      "text/plain": [
       "array([3, 4])"
      ]
     },
     "execution_count": 30,
     "metadata": {},
     "output_type": "execute_result"
    }
   ],
   "source": [
    "a6[1,:]"
   ]
  },
  {
   "cell_type": "code",
   "execution_count": null,
   "id": "487c7001-8559-4065-994c-7fe034ec1ed2",
   "metadata": {},
   "outputs": [
    {
     "data": {
      "text/plain": [
       "array([1, 2])"
      ]
     },
     "execution_count": 32,
     "metadata": {},
     "output_type": "execute_result"
    }
   ],
   "source": [
    "a6[0,:]"
   ]
  },
  {
   "cell_type": "code",
   "execution_count": null,
   "id": "d40b5f61-5fa2-48cd-8371-13b33a496d26",
   "metadata": {},
   "outputs": [
    {
     "data": {
      "text/plain": [
       "np.int64(1)"
      ]
     },
     "execution_count": 36,
     "metadata": {},
     "output_type": "execute_result"
    }
   ],
   "source": [
    "a6[0][0]  "
   ]
  },
  {
   "cell_type": "code",
   "execution_count": null,
   "id": "5c1f84ca-cb80-47b1-a4d6-f768ee8596aa",
   "metadata": {},
   "outputs": [
    {
     "name": "stdout",
     "output_type": "stream",
     "text": [
      "1\n",
      "2\n",
      "3\n",
      "4\n",
      "5\n",
      "6\n"
     ]
    }
   ],
   "source": [
    "for i in a6[:][:]:\n",
    "    for j in i:\n",
    "        print(j)"
   ]
  },
  {
   "cell_type": "code",
   "execution_count": null,
   "id": "ef06b794-fd59-4d04-9f48-18e2d414815b",
   "metadata": {},
   "outputs": [],
   "source": [
    "i,j = a6[0]"
   ]
  },
  {
   "cell_type": "code",
   "execution_count": null,
   "id": "d01afb2b-96eb-42df-8b88-85b68a896f96",
   "metadata": {},
   "outputs": [
    {
     "name": "stdout",
     "output_type": "stream",
     "text": [
      "1 2\n"
     ]
    }
   ],
   "source": [
    "print(i,j)"
   ]
  },
  {
   "cell_type": "code",
   "execution_count": null,
   "id": "b88ae3c7-6478-4899-9944-538a94f271cf",
   "metadata": {},
   "outputs": [
    {
     "data": {
      "text/plain": [
       "np.int64(2)"
      ]
     },
     "execution_count": 44,
     "metadata": {},
     "output_type": "execute_result"
    }
   ],
   "source": [
    "j"
   ]
  },
  {
   "cell_type": "code",
   "execution_count": null,
   "id": "94033221-de3b-4f02-b8bb-cb7751750ae9",
   "metadata": {},
   "outputs": [
    {
     "name": "stdout",
     "output_type": "stream",
     "text": [
      "1 2\n",
      "3 4\n",
      "5 6\n"
     ]
    }
   ],
   "source": [
    "for i,j in a6:\n",
    "    print(i,j)"
   ]
  },
  {
   "cell_type": "code",
   "execution_count": null,
   "id": "597b59f1-7422-4354-a1c6-7e87b7fdaa65",
   "metadata": {},
   "outputs": [],
   "source": [
    "# ndarray.dim"
   ]
  },
  {
   "cell_type": "code",
   "execution_count": null,
   "id": "bfdb9269-eea4-4bae-83ba-c295e0e6e82b",
   "metadata": {},
   "outputs": [],
   "source": [
    "a8 = np.array([(1,2),(3,4),(5,6)])"
   ]
  },
  {
   "cell_type": "code",
   "execution_count": null,
   "id": "43951146-1149-417e-99e0-f8f6695ce578",
   "metadata": {},
   "outputs": [
    {
     "data": {
      "text/plain": [
       "2"
      ]
     },
     "execution_count": 49,
     "metadata": {},
     "output_type": "execute_result"
    }
   ],
   "source": [
    "a8.ndim"
   ]
  },
  {
   "cell_type": "code",
   "execution_count": null,
   "id": "6f4fe644-6fd4-4149-841a-5532a8800e75",
   "metadata": {},
   "outputs": [
    {
     "data": {
      "text/plain": [
       "6"
      ]
     },
     "execution_count": 50,
     "metadata": {},
     "output_type": "execute_result"
    }
   ],
   "source": [
    "a8.size"
   ]
  },
  {
   "cell_type": "code",
   "execution_count": null,
   "id": "2b3a8a8e-adda-40f1-963b-709b54db40f2",
   "metadata": {},
   "outputs": [
    {
     "data": {
      "text/plain": [
       "dtype('int64')"
      ]
     },
     "execution_count": 51,
     "metadata": {},
     "output_type": "execute_result"
    }
   ],
   "source": [
    "a8.dtype"
   ]
  },
  {
   "cell_type": "code",
   "execution_count": null,
   "id": "ee2bf5fb-e2f7-4593-868b-db7e304468aa",
   "metadata": {},
   "outputs": [
    {
     "name": "stdout",
     "output_type": "stream",
     "text": [
      "True\n"
     ]
    }
   ],
   "source": [
    "print(3 in a8) #检查数据是否存在于数组中"
   ]
  },
  {
   "cell_type": "code",
   "execution_count": null,
   "id": "d7fdcb58-6d65-4fd6-a40e-d1fdc1379be9",
   "metadata": {},
   "outputs": [
    {
     "name": "stdout",
     "output_type": "stream",
     "text": [
      "False\n"
     ]
    }
   ],
   "source": [
    "print(10 in a8)"
   ]
  },
  {
   "cell_type": "code",
   "execution_count": null,
   "id": "13107b3d-200e-41a6-a8d4-65770c94e686",
   "metadata": {},
   "outputs": [
    {
     "name": "stdout",
     "output_type": "stream",
     "text": [
      "False\n"
     ]
    }
   ],
   "source": [
    "print((2,3) in a8)"
   ]
  },
  {
   "cell_type": "code",
   "execution_count": null,
   "id": "dc5bca86-9b1e-4a8d-a7d4-62fb17852135",
   "metadata": {},
   "outputs": [
    {
     "name": "stdout",
     "output_type": "stream",
     "text": [
      "True\n"
     ]
    }
   ],
   "source": [
    "print((1,2) in a8)"
   ]
  },
  {
   "cell_type": "code",
   "execution_count": null,
   "id": "58dae8f6-2e78-442d-819b-cb6c38559291",
   "metadata": {},
   "outputs": [
    {
     "name": "stdout",
     "output_type": "stream",
     "text": [
      "1 True\n"
     ]
    }
   ],
   "source": [
    "print(1,2 in a8)"
   ]
  },
  {
   "cell_type": "code",
   "execution_count": null,
   "id": "33e32f49-247e-4fc0-b7f4-8a6711ae7d63",
   "metadata": {},
   "outputs": [
    {
     "name": "stdout",
     "output_type": "stream",
     "text": [
      "True\n"
     ]
    }
   ],
   "source": [
    "print(3 and 4 in a8)"
   ]
  },
  {
   "cell_type": "code",
   "execution_count": null,
   "id": "b6fb021c-8352-496b-b527-8898c353e196",
   "metadata": {},
   "outputs": [],
   "source": [
    "a9 = np.arange(1,16)"
   ]
  },
  {
   "cell_type": "code",
   "execution_count": null,
   "id": "e3a5b882-fe55-4a9b-b8eb-1ef8bd3a6a4b",
   "metadata": {},
   "outputs": [
    {
     "data": {
      "text/plain": [
       "array([ 1,  2,  3,  4,  5,  6,  7,  8,  9, 10, 11, 12, 13, 14, 15])"
      ]
     },
     "execution_count": 74,
     "metadata": {},
     "output_type": "execute_result"
    }
   ],
   "source": [
    "a9"
   ]
  },
  {
   "cell_type": "code",
   "execution_count": null,
   "id": "86a2e5c7-3ca7-4882-98b5-1d1b0f99c381",
   "metadata": {},
   "outputs": [],
   "source": [
    "a10 = a9.reshape(3,5,1) #维度大小乘积 == 元素个数"
   ]
  },
  {
   "cell_type": "code",
   "execution_count": null,
   "id": "bfa917b1-ad79-4e7c-b941-d297ba85f568",
   "metadata": {},
   "outputs": [
    {
     "data": {
      "text/plain": [
       "array([[[ 1],\n",
       "        [ 2],\n",
       "        [ 3],\n",
       "        [ 4],\n",
       "        [ 5]],\n",
       "\n",
       "       [[ 6],\n",
       "        [ 7],\n",
       "        [ 8],\n",
       "        [ 9],\n",
       "        [10]],\n",
       "\n",
       "       [[11],\n",
       "        [12],\n",
       "        [13],\n",
       "        [14],\n",
       "        [15]]])"
      ]
     },
     "execution_count": 78,
     "metadata": {},
     "output_type": "execute_result"
    }
   ],
   "source": [
    "a10"
   ]
  },
  {
   "cell_type": "code",
   "execution_count": null,
   "id": "05791c0b-883b-4549-92a6-608389e0e441",
   "metadata": {},
   "outputs": [
    {
     "name": "stdout",
     "output_type": "stream",
     "text": [
      "(3, 5, 1)\n"
     ]
    }
   ],
   "source": [
    "print(a10.shape)"
   ]
  },
  {
   "cell_type": "code",
   "execution_count": null,
   "id": "6bee02b8-199a-41d4-a745-07c1600a15b9",
   "metadata": {},
   "outputs": [],
   "source": [
    "a11 = a9.reshape(5,3,1)"
   ]
  },
  {
   "cell_type": "code",
   "execution_count": null,
   "id": "7232d76f-3f31-466b-b85c-0461f76098a7",
   "metadata": {},
   "outputs": [
    {
     "data": {
      "text/plain": [
       "array([[[ 1],\n",
       "        [ 2],\n",
       "        [ 3]],\n",
       "\n",
       "       [[ 4],\n",
       "        [ 5],\n",
       "        [ 6]],\n",
       "\n",
       "       [[ 7],\n",
       "        [ 8],\n",
       "        [ 9]],\n",
       "\n",
       "       [[10],\n",
       "        [11],\n",
       "        [12]],\n",
       "\n",
       "       [[13],\n",
       "        [14],\n",
       "        [15]]])"
      ]
     },
     "execution_count": 83,
     "metadata": {},
     "output_type": "execute_result"
    }
   ],
   "source": [
    "a11"
   ]
  },
  {
   "cell_type": "code",
   "execution_count": null,
   "id": "b2bbdfe1-8713-4fb9-a1c1-fdef7c01a370",
   "metadata": {},
   "outputs": [
    {
     "ename": "AttributeError",
     "evalue": "'numpy.ndarray' object has no attribute 'trasports'",
     "output_type": "error",
     "traceback": [
      "\u001b[1;31m---------------------------------------------------------------------------\u001b[0m",
      "\u001b[1;31mAttributeError\u001b[0m                            Traceback (most recent call last)",
      "Cell \u001b[1;32mIn[89], line 1\u001b[0m\n\u001b[1;32m----> 1\u001b[0m \u001b[43ma11\u001b[49m\u001b[38;5;241;43m.\u001b[39;49m\u001b[43mtrasports\u001b[49m()\n",
      "\u001b[1;31mAttributeError\u001b[0m: 'numpy.ndarray' object has no attribute 'trasports'"
     ]
    }
   ],
   "source": [
    "a11.trasports()"
   ]
  },
  {
   "cell_type": "code",
   "execution_count": null,
   "id": "dc08e9f1-0c69-4b0a-b5a8-efe7adf9408f",
   "metadata": {},
   "outputs": [],
   "source": [
    "a12 = a11.T"
   ]
  },
  {
   "cell_type": "code",
   "execution_count": null,
   "id": "49187284-6346-47b5-977d-8fc985908075",
   "metadata": {},
   "outputs": [
    {
     "name": "stdout",
     "output_type": "stream",
     "text": [
      "[[[ 1  4  7 10 13]\n",
      "  [ 2  5  8 11 14]\n",
      "  [ 3  6  9 12 15]]]\n"
     ]
    }
   ],
   "source": [
    "print(a12)"
   ]
  },
  {
   "cell_type": "code",
   "execution_count": null,
   "id": "94b75614-3707-4563-90a5-d37b443b7c22",
   "metadata": {},
   "outputs": [
    {
     "name": "stdout",
     "output_type": "stream",
     "text": [
      "[ 1  4  7 10 13  2  5  8 11 14  3  6  9 12 15]\n"
     ]
    }
   ],
   "source": [
    "a13 = a12.flatten\n",
    "print(a13())"
   ]
  },
  {
   "cell_type": "code",
   "execution_count": null,
   "id": "937e1420-4835-4673-8930-a6a53ae423ca",
   "metadata": {},
   "outputs": [],
   "source": [
    "a13 = np.array([(1,2),(3,4),(5,6)])"
   ]
  },
  {
   "cell_type": "code",
   "execution_count": null,
   "id": "6ebd9b4b-622c-4d8f-9260-3963c6957f12",
   "metadata": {},
   "outputs": [],
   "source": [
    "a14 = a13[:,np.newaxis,:]"
   ]
  },
  {
   "cell_type": "code",
   "execution_count": null,
   "id": "ba41d7f7-3d78-42f3-a135-4b05dbf0b742",
   "metadata": {},
   "outputs": [
    {
     "data": {
      "text/plain": [
       "array([[[1, 2]],\n",
       "\n",
       "       [[3, 4]],\n",
       "\n",
       "       [[5, 6]]])"
      ]
     },
     "execution_count": 102,
     "metadata": {},
     "output_type": "execute_result"
    }
   ],
   "source": [
    "a14"
   ]
  },
  {
   "cell_type": "code",
   "execution_count": null,
   "id": "b0e97196-3047-478e-a86c-7a0d75626450",
   "metadata": {},
   "outputs": [
    {
     "data": {
      "text/plain": [
       "(3, 1, 2)"
      ]
     },
     "execution_count": 103,
     "metadata": {},
     "output_type": "execute_result"
    }
   ],
   "source": [
    "a14.shape"
   ]
  },
  {
   "cell_type": "code",
   "execution_count": null,
   "id": "5f9ba3d5-03e8-4821-b921-b397bdb7f978",
   "metadata": {},
   "outputs": [
    {
     "data": {
      "text/plain": [
       "array([[5, 6]])"
      ]
     },
     "execution_count": 106,
     "metadata": {},
     "output_type": "execute_result"
    }
   ],
   "source": [
    "a14[2]"
   ]
  },
  {
   "cell_type": "code",
   "execution_count": null,
   "id": "43878c10-ce09-465b-a1f3-a4d3b0b7b548",
   "metadata": {},
   "outputs": [
    {
     "data": {
      "text/plain": [
       "array([1, 2, 3, 4, 5, 6])"
      ]
     },
     "execution_count": 108,
     "metadata": {},
     "output_type": "execute_result"
    }
   ],
   "source": [
    "a14.flatten()"
   ]
  },
  {
   "cell_type": "code",
   "execution_count": null,
   "id": "cf74ea93-871c-4781-9682-52dfccdec5ea",
   "metadata": {},
   "outputs": [],
   "source": [
    "# 数学操作"
   ]
  },
  {
   "cell_type": "code",
   "execution_count": null,
   "id": "4a60a85f-bffa-43c6-99a6-c930ef3a5e23",
   "metadata": {},
   "outputs": [
    {
     "name": "stdout",
     "output_type": "stream",
     "text": [
      "[[1. 1.]\n",
      " [1. 1.]]\n",
      "[[1 2]\n",
      " [3 4]]\n",
      "\n",
      "[[2. 3.]\n",
      " [4. 5.]]\n",
      "\n",
      "[[ 0. -1.]\n",
      " [-2. -3.]]\n",
      "\n",
      "[[1. 2.]\n",
      " [3. 4.]]\n"
     ]
    }
   ],
   "source": [
    "a = np.ones((2,2))\n",
    "b = np.array([(1,2),(3,4)])\n",
    "print(a)\n",
    "print(b)\n",
    "print()\n",
    "print(a + b)\n",
    "print()\n",
    "print(a - b)\n",
    "print()\n",
    "print(a * b)"
   ]
  },
  {
   "cell_type": "code",
   "execution_count": null,
   "id": "d78d2d98-516a-4655-a37a-44abe9bee2df",
   "metadata": {},
   "outputs": [
    {
     "name": "stdout",
     "output_type": "stream",
     "text": [
      "4.0\n"
     ]
    }
   ],
   "source": [
    "print(a.sum())"
   ]
  },
  {
   "cell_type": "code",
   "execution_count": null,
   "id": "61be623f-f844-4097-bb8a-d80e3abf6f46",
   "metadata": {},
   "outputs": [
    {
     "name": "stdout",
     "output_type": "stream",
     "text": [
      "24\n"
     ]
    }
   ],
   "source": [
    "print(b.prod())"
   ]
  },
  {
   "cell_type": "code",
   "execution_count": null,
   "id": "4c07b1cf-777d-421a-88b5-331c52932048",
   "metadata": {},
   "outputs": [],
   "source": [
    "# 数组、矩阵、维度\n",
    "# 数组、矩阵：数据的组织结构形式\n",
    "# 维度：数据属性的描述，例子-通讯地址"
   ]
  },
  {
   "cell_type": "code",
   "execution_count": null,
   "id": "690b8dde-0791-4d17-b13a-216724df3652",
   "metadata": {},
   "outputs": [
    {
     "name": "stdout",
     "output_type": "stream",
     "text": [
      "2.5\n"
     ]
    }
   ],
   "source": [
    "a = np.array([(1,2),(3,4)])\n",
    "print(a.mean())"
   ]
  },
  {
   "cell_type": "code",
   "execution_count": null,
   "id": "518feb6c-a95d-43dc-98a3-50c267c11aa7",
   "metadata": {},
   "outputs": [],
   "source": [
    "a = np.array([(9.8,6.5),(13.3,41.3)])\n"
   ]
  },
  {
   "cell_type": "code",
   "execution_count": null,
   "id": "873b48bb-65df-4ec4-93d8-3b4458bdae84",
   "metadata": {},
   "outputs": [
    {
     "name": "stdout",
     "output_type": "stream",
     "text": [
      "3\n",
      "1\n"
     ]
    }
   ],
   "source": [
    "print(a.argmax()) #最大值的索引\n",
    "print(a.argmin()) #最小值的索引"
   ]
  },
  {
   "cell_type": "code",
   "execution_count": null,
   "id": "7840dd95-2283-49fa-87d0-502e1aae469c",
   "metadata": {},
   "outputs": [
    {
     "name": "stdout",
     "output_type": "stream",
     "text": [
      "[[10.  7.]\n",
      " [14. 42.]]\n"
     ]
    }
   ],
   "source": [
    "print(np.ceil(a)) #向上取整"
   ]
  },
  {
   "cell_type": "code",
   "execution_count": null,
   "id": "66ad2540-9d71-4bed-afb5-f04b911a1e3c",
   "metadata": {},
   "outputs": [
    {
     "name": "stdout",
     "output_type": "stream",
     "text": [
      "[[ 9.  6.]\n",
      " [13. 41.]]\n"
     ]
    }
   ],
   "source": [
    "print(np.floor(a))  #向下取证"
   ]
  },
  {
   "cell_type": "code",
   "execution_count": null,
   "id": "262442e0-dc6c-4382-b7ba-b5cf38e59751",
   "metadata": {},
   "outputs": [
    {
     "name": "stdout",
     "output_type": "stream",
     "text": [
      "[[10.  6.]\n",
      " [13. 41.]]\n"
     ]
    }
   ],
   "source": [
    "print(np.rint(a)) #四舍五入"
   ]
  },
  {
   "cell_type": "code",
   "execution_count": null,
   "id": "036bc20d-3d1f-45d0-8bad-62368286d60b",
   "metadata": {},
   "outputs": [
    {
     "data": {
      "text/plain": [
       "array([[-1., -1.],\n",
       "       [-1., -1.]])"
      ]
     },
     "execution_count": 148,
     "metadata": {},
     "output_type": "execute_result"
    }
   ],
   "source": [
    "a16 = np.floor(a) - np.ceil(a)\n",
    "a16"
   ]
  },
  {
   "cell_type": "code",
   "execution_count": null,
   "id": "ddd824f6-103a-4da1-9cd4-4e0516bcab03",
   "metadata": {},
   "outputs": [],
   "source": [
    "a = np.array([(9.8,6.5),(13.3,41.3)])\n",
    "a.sort()"
   ]
  },
  {
   "cell_type": "code",
   "execution_count": null,
   "id": "b3d38dbe-af1c-48b2-a1fc-325eb0426985",
   "metadata": {},
   "outputs": [
    {
     "data": {
      "text/plain": [
       "array([[ 6.5,  9.8],\n",
       "       [13.3, 41.3]])"
      ]
     },
     "execution_count": 139,
     "metadata": {},
     "output_type": "execute_result"
    }
   ],
   "source": [
    "a"
   ]
  },
  {
   "cell_type": "code",
   "execution_count": null,
   "id": "9974669e-0d23-4241-ae1e-f88893180513",
   "metadata": {},
   "outputs": [],
   "source": [
    "a = np.array([(1,3,2),(1,72,3),(5,1,3)])"
   ]
  },
  {
   "cell_type": "code",
   "execution_count": null,
   "id": "64308b61-eedf-44c7-b0a4-b53e9f3aca99",
   "metadata": {},
   "outputs": [
    {
     "name": "stdout",
     "output_type": "stream",
     "text": [
      "None\n"
     ]
    }
   ],
   "source": [
    "a.sort()"
   ]
  },
  {
   "cell_type": "code",
   "execution_count": null,
   "id": "9bfc7bf8-81dc-4cb2-9ed8-27a8c1bc615a",
   "metadata": {},
   "outputs": [
    {
     "data": {
      "text/plain": [
       "array([[ 1,  2,  3],\n",
       "       [ 1,  3, 72],\n",
       "       [ 1,  3,  5]])"
      ]
     },
     "execution_count": 145,
     "metadata": {},
     "output_type": "execute_result"
    }
   ],
   "source": [
    "a"
   ]
  },
  {
   "cell_type": "code",
   "execution_count": null,
   "id": "15e1595c-fd97-4b93-861a-c0d055f22054",
   "metadata": {},
   "outputs": [],
   "source": [
    "a = np.array([(1,2,3),(4,5,6)])\n",
    "b = np.array([(7,8),(11,12),(2,3)])"
   ]
  },
  {
   "cell_type": "code",
   "execution_count": null,
   "id": "50768988-f83c-4b48-8eb1-ff6eb012b08c",
   "metadata": {},
   "outputs": [
    {
     "data": {
      "text/plain": [
       "array([[1, 2, 3],\n",
       "       [4, 5, 6]])"
      ]
     },
     "execution_count": 185,
     "metadata": {},
     "output_type": "execute_result"
    }
   ],
   "source": [
    "a"
   ]
  },
  {
   "cell_type": "code",
   "execution_count": null,
   "id": "7cb8cd25-8b26-4563-8a67-854224690046",
   "metadata": {},
   "outputs": [
    {
     "data": {
      "text/plain": [
       "array([[ 7,  8],\n",
       "       [11, 12],\n",
       "       [ 2,  3]])"
      ]
     },
     "execution_count": 186,
     "metadata": {},
     "output_type": "execute_result"
    }
   ],
   "source": [
    "b"
   ]
  },
  {
   "cell_type": "code",
   "execution_count": null,
   "id": "51937285-795f-485b-b46b-90a29b8a5cb1",
   "metadata": {},
   "outputs": [
    {
     "data": {
      "text/plain": [
       "array([[ 7, 22,  6],\n",
       "       [32, 60, 18]])"
      ]
     },
     "execution_count": 190,
     "metadata": {},
     "output_type": "execute_result"
    }
   ],
   "source": [
    "a * b.T #矩阵乘法计算"
   ]
  },
  {
   "cell_type": "code",
   "execution_count": null,
   "id": "40ccb758-97a2-4def-b4cd-1a14b46cbbdb",
   "metadata": {},
   "outputs": [],
   "source": [
    "c = np.dot(a,b) #矩阵内积计算"
   ]
  },
  {
   "cell_type": "code",
   "execution_count": null,
   "id": "d53d0c10-8938-4e4e-82e7-1076d84a4541",
   "metadata": {},
   "outputs": [
    {
     "data": {
      "text/plain": [
       "array([[ 35,  41],\n",
       "       [ 95, 110]])"
      ]
     },
     "execution_count": 197,
     "metadata": {},
     "output_type": "execute_result"
    }
   ],
   "source": [
    "c"
   ]
  },
  {
   "cell_type": "code",
   "execution_count": null,
   "id": "63c560d7-b418-48f5-9ee7-20491782fbd1",
   "metadata": {},
   "outputs": [
    {
     "data": {
      "text/plain": [
       "array([[ 35,  41],\n",
       "       [ 95, 110]])"
      ]
     },
     "execution_count": 198,
     "metadata": {},
     "output_type": "execute_result"
    }
   ],
   "source": [
    "a @ b "
   ]
  },
  {
   "cell_type": "code",
   "execution_count": null,
   "id": "d5f6067d-2e59-455e-8d72-d7d83016303e",
   "metadata": {},
   "outputs": [],
   "source": [
    "np.save('result.npy',c)"
   ]
  },
  {
   "cell_type": "code",
   "execution_count": null,
   "id": "fd2a2ca1-08d3-44fb-8576-dc77c483407e",
   "metadata": {},
   "outputs": [
    {
     "data": {
      "text/plain": [
       "array([[ 35,  41],\n",
       "       [ 95, 110]])"
      ]
     },
     "execution_count": 199,
     "metadata": {},
     "output_type": "execute_result"
    }
   ],
   "source": [
    "result_c = np.load('result.npy')\n",
    "result_c"
   ]
  },
  {
   "cell_type": "code",
   "execution_count": null,
   "id": "715308d1-0405-41e3-8dde-498054743dce",
   "metadata": {},
   "outputs": [
    {
     "data": {
      "text/plain": [
       "array([5, 7, 9])"
      ]
     },
     "execution_count": 200,
     "metadata": {},
     "output_type": "execute_result"
    }
   ],
   "source": [
    "a = np.array([1,2,3])\n",
    "b = np.array([4,5,6])\n",
    "c = a + b\n",
    "c"
   ]
  },
  {
   "cell_type": "code",
   "execution_count": null,
   "id": "0948d6cc-3c51-4c08-9145-fb490f39fd00",
   "metadata": {},
   "outputs": [
    {
     "name": "stdout",
     "output_type": "stream",
     "text": [
      "[[ 5  7  9  1]\n",
      " [ 6  8 10  6]]\n",
      "(2, 4)\n"
     ]
    },
    {
     "data": {
      "text/plain": [
       "(1, 4)"
      ]
     },
     "execution_count": 211,
     "metadata": {},
     "output_type": "execute_result"
    }
   ],
   "source": [
    "a = np.array([(1,2,3,0),(2,3,4,5)])\n",
    "b = np.array([(4,5,6,1)])\n",
    "c = a + b\n",
    "print(c)\n",
    "print(np.shape(a))\n",
    "np.shape(b)"
   ]
  },
  {
   "cell_type": "code",
   "execution_count": null,
   "id": "6732fda5-fd4d-44da-9d6a-0304c8a38389",
   "metadata": {},
   "outputs": [],
   "source": [
    "import numpy as np"
   ]
  },
  {
   "cell_type": "code",
   "execution_count": null,
   "id": "9f99ffa6-62b7-4024-9dcb-dbf2e346f0a3",
   "metadata": {},
   "outputs": [],
   "source": [
    "a = np.array([[1,2,3],[4,5,6],[7,8,9]])"
   ]
  },
  {
   "cell_type": "code",
   "execution_count": null,
   "id": "fb9f9880-0028-4198-944e-eac102522945",
   "metadata": {},
   "outputs": [
    {
     "data": {
      "text/plain": [
       "array([[1, 2, 3],\n",
       "       [4, 5, 6],\n",
       "       [7, 8, 9]])"
      ]
     },
     "execution_count": 4,
     "metadata": {},
     "output_type": "execute_result"
    }
   ],
   "source": [
    "a"
   ]
  },
  {
   "cell_type": "code",
   "execution_count": null,
   "id": "bd989c32-00d5-4add-b799-8871db0a434f",
   "metadata": {},
   "outputs": [],
   "source": [
    "b = np.array([(1,2,3),(4,5,6),(7,8,9)])"
   ]
  },
  {
   "cell_type": "code",
   "execution_count": null,
   "id": "c2d198e9-7111-4515-9cd3-315706cbef95",
   "metadata": {},
   "outputs": [
    {
     "data": {
      "text/plain": [
       "array([[1, 2, 3],\n",
       "       [4, 5, 6],\n",
       "       [7, 8, 9]])"
      ]
     },
     "execution_count": 8,
     "metadata": {},
     "output_type": "execute_result"
    }
   ],
   "source": [
    "b"
   ]
  },
  {
   "cell_type": "code",
   "execution_count": null,
   "id": "8399f971-0141-4e15-ae7f-70280a31b8f5",
   "metadata": {},
   "outputs": [],
   "source": [
    "a = np.zeros((3,3,4),dtype = np.int32)"
   ]
  },
  {
   "cell_type": "code",
   "execution_count": null,
   "id": "08cba719-cce1-47f7-b9fd-bff3c8e5a16c",
   "metadata": {},
   "outputs": [
    {
     "data": {
      "text/plain": [
       "array([[[0, 0, 0, 0],\n",
       "        [0, 0, 0, 0],\n",
       "        [0, 0, 0, 0]],\n",
       "\n",
       "       [[0, 0, 0, 0],\n",
       "        [0, 0, 0, 0],\n",
       "        [0, 0, 0, 0]],\n",
       "\n",
       "       [[0, 0, 0, 0],\n",
       "        [0, 0, 0, 0],\n",
       "        [0, 0, 0, 0]]])"
      ]
     },
     "execution_count": 15,
     "metadata": {},
     "output_type": "execute_result"
    }
   ],
   "source": [
    "a"
   ]
  },
  {
   "cell_type": "code",
   "execution_count": null,
   "id": "a6e02d9a-1299-4e40-8c71-e51dfc7326fe",
   "metadata": {},
   "outputs": [],
   "source": [
    "b = np.ones((3,3,4),dtype = np.float32)"
   ]
  },
  {
   "cell_type": "code",
   "execution_count": null,
   "id": "0056e496-d454-4dfa-8b51-ea12cf621806",
   "metadata": {},
   "outputs": [
    {
     "data": {
      "text/plain": [
       "array([[[1., 1., 1., 1.],\n",
       "        [1., 1., 1., 1.],\n",
       "        [1., 1., 1., 1.]],\n",
       "\n",
       "       [[1., 1., 1., 1.],\n",
       "        [1., 1., 1., 1.],\n",
       "        [1., 1., 1., 1.]],\n",
       "\n",
       "       [[1., 1., 1., 1.],\n",
       "        [1., 1., 1., 1.],\n",
       "        [1., 1., 1., 1.]]], dtype=float32)"
      ]
     },
     "execution_count": 18,
     "metadata": {},
     "output_type": "execute_result"
    }
   ],
   "source": [
    "b"
   ]
  },
  {
   "cell_type": "code",
   "execution_count": null,
   "id": "dc74bcb7-1c35-4ce5-9db0-8a0b7ee5ec40",
   "metadata": {},
   "outputs": [],
   "source": [
    "c = np.random.randn(3,3,4)"
   ]
  },
  {
   "cell_type": "code",
   "execution_count": null,
   "id": "6f541e9a-707b-4092-94ea-4e4a4c0e93f4",
   "metadata": {},
   "outputs": [
    {
     "data": {
      "text/plain": [
       "array([[[0.17097444, 0.24200197, 0.32730069, 0.07277818],\n",
       "        [0.51252129, 0.8294985 , 0.58738137, 0.43550694],\n",
       "        [0.80853994, 0.87257934, 0.70293582, 0.29140974]],\n",
       "\n",
       "       [[0.63506937, 0.8583173 , 0.70025288, 0.09429447],\n",
       "        [0.49761895, 0.16365973, 0.85266197, 0.85166221],\n",
       "        [0.6074141 , 0.78867818, 0.28589926, 0.54286998]],\n",
       "\n",
       "       [[0.6155558 , 0.12706507, 0.41352555, 0.65771189],\n",
       "        [0.06797713, 0.64477068, 0.26379208, 0.19721276],\n",
       "        [0.40339325, 0.26840835, 0.57842339, 0.47181958]]])"
      ]
     },
     "execution_count": 38,
     "metadata": {},
     "output_type": "execute_result"
    }
   ],
   "source": [
    "c"
   ]
  },
  {
   "cell_type": "code",
   "execution_count": null,
   "id": "8290c397-8075-4610-946a-d174f9c61c0d",
   "metadata": {},
   "outputs": [],
   "source": [
    "b = np.ones((3,3),dtype = np.float64)"
   ]
  },
  {
   "cell_type": "code",
   "execution_count": null,
   "id": "87592021-5df5-47f0-a1db-763fe369a55d",
   "metadata": {},
   "outputs": [
    {
     "data": {
      "text/plain": [
       "array([[1., 1., 1.],\n",
       "       [1., 1., 1.],\n",
       "       [1., 1., 1.]])"
      ]
     },
     "execution_count": 42,
     "metadata": {},
     "output_type": "execute_result"
    }
   ],
   "source": [
    "b"
   ]
  },
  {
   "cell_type": "code",
   "execution_count": null,
   "id": "ca92e8ca-f752-428d-9ff9-a69765507c39",
   "metadata": {},
   "outputs": [],
   "source": [
    "a = np.arange(1,10,0.2)"
   ]
  },
  {
   "cell_type": "code",
   "execution_count": null,
   "id": "b7e97ae9-1bca-471e-b25b-ef59702c3321",
   "metadata": {},
   "outputs": [
    {
     "data": {
      "text/plain": [
       "array([1. , 1.2, 1.4, 1.6, 1.8, 2. , 2.2, 2.4, 2.6, 2.8, 3. , 3.2, 3.4,\n",
       "       3.6, 3.8, 4. , 4.2, 4.4, 4.6, 4.8, 5. , 5.2, 5.4, 5.6, 5.8, 6. ,\n",
       "       6.2, 6.4, 6.6, 6.8, 7. , 7.2, 7.4, 7.6, 7.8, 8. , 8.2, 8.4, 8.6,\n",
       "       8.8, 9. , 9.2, 9.4, 9.6, 9.8])"
      ]
     },
     "execution_count": 55,
     "metadata": {},
     "output_type": "execute_result"
    }
   ],
   "source": [
    "a"
   ]
  },
  {
   "cell_type": "code",
   "execution_count": null,
   "id": "d4b94bbc-b379-497b-b2c0-612c659324b5",
   "metadata": {},
   "outputs": [],
   "source": [
    "b = np.eye(5,5) #one-hot编码，"
   ]
  },
  {
   "cell_type": "code",
   "execution_count": null,
   "id": "2dcbbc84-c81c-47e5-adde-d80cc988ee25",
   "metadata": {},
   "outputs": [
    {
     "data": {
      "text/plain": [
       "array([[1., 0., 0., 0., 0.],\n",
       "       [0., 1., 0., 0., 0.],\n",
       "       [0., 0., 1., 0., 0.],\n",
       "       [0., 0., 0., 1., 0.],\n",
       "       [0., 0., 0., 0., 1.]])"
      ]
     },
     "execution_count": 63,
     "metadata": {},
     "output_type": "execute_result"
    }
   ],
   "source": [
    "b"
   ]
  },
  {
   "cell_type": "code",
   "execution_count": null,
   "id": "8a2e06fe-c75c-48a3-a24c-81ba54382230",
   "metadata": {},
   "outputs": [
    {
     "data": {
      "text/plain": [
       "array([0.36315959, 0.98251242, 0.31977677, 0.1705984 ])"
      ]
     },
     "execution_count": 71,
     "metadata": {},
     "output_type": "execute_result"
    }
   ],
   "source": [
    "c = np.random.random(4) #可以用于模型参数的初始值\n",
    "c"
   ]
  },
  {
   "cell_type": "code",
   "execution_count": null,
   "id": "9cf496c7-c456-4cbe-a9cf-11621f2964ec",
   "metadata": {},
   "outputs": [
    {
     "data": {
      "text/plain": [
       "array([0.03765952, 0.08327433, 0.07671387, 0.74775558, 0.60901909,\n",
       "       0.44653169, 0.53779837, 0.13782618, 0.19206859])"
      ]
     },
     "execution_count": 72,
     "metadata": {},
     "output_type": "execute_result"
    }
   ],
   "source": [
    "d = np.random.random(9)\n",
    "d"
   ]
  },
  {
   "cell_type": "code",
   "execution_count": null,
   "id": "11fe1d72-63d2-41b6-bb20-ed78ac4bce11",
   "metadata": {},
   "outputs": [],
   "source": [
    "mu,sigma = 0,0.001"
   ]
  },
  {
   "cell_type": "code",
   "execution_count": null,
   "id": "22e7f7e6-5f1a-4005-9fe1-668e9d390347",
   "metadata": {},
   "outputs": [
    {
     "data": {
      "text/plain": [
       "array([ 0.00019267, -0.00023557, -0.00165811, -0.00046982,  0.00051813])"
      ]
     },
     "execution_count": 77,
     "metadata": {},
     "output_type": "execute_result"
    }
   ],
   "source": [
    "f = np.random.normal(mu,sigma,5) #可以用于模型参数的初始值\n",
    "f"
   ]
  },
  {
   "cell_type": "code",
   "execution_count": null,
   "id": "e108b2d5-de0a-4f35-91c4-3b3ff3a82e0e",
   "metadata": {},
   "outputs": [
    {
     "data": {
      "text/plain": [
       "array([0.00030778, 0.00104093, 0.00039979, 0.00011567, 0.0009627 ,\n",
       "       0.00015163, 0.00050279, 0.00040835, 0.00099554, 0.00034328])"
      ]
     },
     "execution_count": 76,
     "metadata": {},
     "output_type": "execute_result"
    }
   ],
   "source": [
    "e = np.random.normal(0,0.001,10)\n",
    "e"
   ]
  },
  {
   "cell_type": "code",
   "execution_count": null,
   "id": "e61f5917-d43f-471e-81c1-16632f19a9ac",
   "metadata": {},
   "outputs": [
    {
     "data": {
      "text/plain": [
       "array([0.00030778, 0.00104093, 0.00039979, 0.00011567, 0.0009627 ,\n",
       "       0.00015163, 0.00050279, 0.00040835, 0.00099554, 0.00034328])"
      ]
     },
     "execution_count": 80,
     "metadata": {},
     "output_type": "execute_result"
    }
   ],
   "source": [
    "e[:] "
   ]
  },
  {
   "cell_type": "code",
   "execution_count": null,
   "id": "efb16f95-9178-4ed5-a3b5-341c2c881fd4",
   "metadata": {},
   "outputs": [],
   "source": [
    "a = np.array([(1,2),(3,4),(5,6)])"
   ]
  },
  {
   "cell_type": "code",
   "execution_count": null,
   "id": "22a8bc56-b6b9-426a-8b41-97d899bece39",
   "metadata": {},
   "outputs": [
    {
     "data": {
      "text/plain": [
       "array([[3, 4],\n",
       "       [5, 6]])"
      ]
     },
     "execution_count": 87,
     "metadata": {},
     "output_type": "execute_result"
    }
   ],
   "source": [
    "a[1:] #支持索引访问及切片"
   ]
  },
  {
   "cell_type": "code",
   "execution_count": null,
   "id": "f8dacd6b-397d-4e30-9252-e83e94a80d18",
   "metadata": {},
   "outputs": [
    {
     "data": {
      "text/plain": [
       "2"
      ]
     },
     "execution_count": 97,
     "metadata": {},
     "output_type": "execute_result"
    }
   ],
   "source": [
    "a.ndim #数组维度"
   ]
  },
  {
   "cell_type": "code",
   "execution_count": null,
   "id": "32bf0043-90ce-49c7-b734-1b15121ea7bc",
   "metadata": {},
   "outputs": [
    {
     "data": {
      "text/plain": [
       "(3, 2)"
      ]
     },
     "execution_count": 98,
     "metadata": {},
     "output_type": "execute_result"
    }
   ],
   "source": [
    "a.shape #数组的行列"
   ]
  },
  {
   "cell_type": "code",
   "execution_count": null,
   "id": "53d3e8b9-590c-4f8b-889b-2fdeb50b8008",
   "metadata": {},
   "outputs": [
    {
     "data": {
      "text/plain": [
       "6"
      ]
     },
     "execution_count": 100,
     "metadata": {},
     "output_type": "execute_result"
    }
   ],
   "source": [
    "a.size #数组的大小"
   ]
  },
  {
   "cell_type": "code",
   "execution_count": null,
   "id": "aa45001d-57bf-412e-8aae-66412747ed67",
   "metadata": {},
   "outputs": [
    {
     "data": {
      "text/plain": [
       "dtype('int32')"
      ]
     },
     "execution_count": 101,
     "metadata": {},
     "output_type": "execute_result"
    }
   ],
   "source": [
    "a.dtype #数组的数据类型"
   ]
  },
  {
   "cell_type": "code",
   "execution_count": null,
   "id": "f26ae962-b98f-4a68-b841-18ba1770a3b5",
   "metadata": {},
   "outputs": [
    {
     "data": {
      "text/plain": [
       "True"
      ]
     },
     "execution_count": 104,
     "metadata": {},
     "output_type": "execute_result"
    }
   ],
   "source": [
    "2 in a  #检查元素是否存在数组中，包括多维元素"
   ]
  },
  {
   "cell_type": "code",
   "execution_count": null,
   "id": "f10699fc-1a43-4ac6-b29d-4a3eadd8b287",
   "metadata": {},
   "outputs": [
    {
     "ename": "ValueError",
     "evalue": "operands could not be broadcast together with shapes (3,2) (3,) ",
     "output_type": "error",
     "traceback": [
      "\u001b[1;31m---------------------------------------------------------------------------\u001b[0m",
      "\u001b[1;31mValueError\u001b[0m                                Traceback (most recent call last)",
      "Cell \u001b[1;32mIn[109], line 1\u001b[0m\n\u001b[1;32m----> 1\u001b[0m \u001b[43m(\u001b[49m\u001b[38;5;241;43m2\u001b[39;49m\u001b[43m,\u001b[49m\u001b[38;5;241;43m3\u001b[39;49m\u001b[43m,\u001b[49m\u001b[38;5;241;43m2\u001b[39;49m\u001b[43m)\u001b[49m\u001b[43m \u001b[49m\u001b[38;5;129;43;01min\u001b[39;49;00m\u001b[43m \u001b[49m\u001b[43ma\u001b[49m \n",
      "\u001b[1;31mValueError\u001b[0m: operands could not be broadcast together with shapes (3,2) (3,) "
     ]
    }
   ],
   "source": [
    "(2,3,2) in a "
   ]
  },
  {
   "cell_type": "code",
   "execution_count": null,
   "id": "a9d60def-186c-466e-b98d-69f90e90bbdc",
   "metadata": {},
   "outputs": [
    {
     "data": {
      "text/plain": [
       "True"
      ]
     },
     "execution_count": 107,
     "metadata": {},
     "output_type": "execute_result"
    }
   ],
   "source": [
    "(1,2) in a"
   ]
  },
  {
   "cell_type": "code",
   "execution_count": null,
   "id": "30864ae2-04bc-49b3-85d1-88e1e91e3f41",
   "metadata": {},
   "outputs": [],
   "source": [
    "a = np.zeros((3,3,4),dtype = np.float32)"
   ]
  },
  {
   "cell_type": "code",
   "execution_count": null,
   "id": "90b497b5-d816-4fd8-8e66-b21ffb085067",
   "metadata": {},
   "outputs": [
    {
     "data": {
      "text/plain": [
       "array([[[0., 0., 0., 0.],\n",
       "        [0., 0., 0., 0.],\n",
       "        [0., 0., 0., 0.]],\n",
       "\n",
       "       [[0., 0., 0., 0.],\n",
       "        [0., 0., 0., 0.],\n",
       "        [0., 0., 0., 0.]],\n",
       "\n",
       "       [[0., 0., 0., 0.],\n",
       "        [0., 0., 0., 0.],\n",
       "        [0., 0., 0., 0.]]], dtype=float32)"
      ]
     },
     "execution_count": 122,
     "metadata": {},
     "output_type": "execute_result"
    }
   ],
   "source": [
    "a"
   ]
  },
  {
   "cell_type": "code",
   "execution_count": null,
   "id": "09c15d6a-980e-44c0-9e4f-619132307f0f",
   "metadata": {},
   "outputs": [
    {
     "data": {
      "text/plain": [
       "array([[[0., 0., 0.],\n",
       "        [0., 0., 0.],\n",
       "        [0., 0., 0.]],\n",
       "\n",
       "       [[0., 0., 0.],\n",
       "        [0., 0., 0.],\n",
       "        [0., 0., 0.]],\n",
       "\n",
       "       [[0., 0., 0.],\n",
       "        [0., 0., 0.],\n",
       "        [0., 0., 0.]],\n",
       "\n",
       "       [[0., 0., 0.],\n",
       "        [0., 0., 0.],\n",
       "        [0., 0., 0.]]], dtype=float32)"
      ]
     },
     "execution_count": 134,
     "metadata": {},
     "output_type": "execute_result"
    }
   ],
   "source": [
    "a.reshape(4,3,3) #.reshape能把数组重组为笛卡尔乘积相等的另一个数组"
   ]
  },
  {
   "cell_type": "code",
   "execution_count": null,
   "id": "2510b9c9-aeea-44ca-8450-6f488843f1e0",
   "metadata": {},
   "outputs": [],
   "source": [
    "a1 = np.arange(1,10)"
   ]
  },
  {
   "cell_type": "code",
   "execution_count": null,
   "id": "a335b02f-af17-4652-8b61-e5c8d5544841",
   "metadata": {},
   "outputs": [
    {
     "data": {
      "text/plain": [
       "array([1, 2, 3, 4, 5, 6, 7, 8, 9])"
      ]
     },
     "execution_count": 128,
     "metadata": {},
     "output_type": "execute_result"
    }
   ],
   "source": [
    "a1"
   ]
  },
  {
   "cell_type": "code",
   "execution_count": null,
   "id": "dc13321b-75f6-4006-b0fd-eec19e8d6c1f",
   "metadata": {},
   "outputs": [
    {
     "data": {
      "text/plain": [
       "9"
      ]
     },
     "execution_count": 132,
     "metadata": {},
     "output_type": "execute_result"
    }
   ],
   "source": [
    "a1.size"
   ]
  },
  {
   "cell_type": "code",
   "execution_count": null,
   "id": "e015a898-dfc7-4878-b888-059f53a64b71",
   "metadata": {},
   "outputs": [
    {
     "data": {
      "text/plain": [
       "array([[[1],\n",
       "        [2],\n",
       "        [3]],\n",
       "\n",
       "       [[4],\n",
       "        [5],\n",
       "        [6]],\n",
       "\n",
       "       [[7],\n",
       "        [8],\n",
       "        [9]]])"
      ]
     },
     "execution_count": 142,
     "metadata": {},
     "output_type": "execute_result"
    }
   ],
   "source": [
    "b = a1.reshape(3,3,1)\n",
    "b"
   ]
  },
  {
   "cell_type": "code",
   "execution_count": null,
   "id": "f93d1fcb-47b4-45f0-8db7-7eb1989dd12f",
   "metadata": {},
   "outputs": [],
   "source": [
    "#img.shape = [1,3,120,120] 1个样本，3个颜色特征通道，120高，120宽"
   ]
  },
  {
   "cell_type": "code",
   "execution_count": null,
   "id": "6fb6234a-5562-40d2-9a11-b9adc85b122a",
   "metadata": {},
   "outputs": [
    {
     "data": {
      "text/plain": [
       "array([1, 2, 3, 4, 5, 6, 7, 8, 9])"
      ]
     },
     "execution_count": 139,
     "metadata": {},
     "output_type": "execute_result"
    }
   ],
   "source": [
    "a1"
   ]
  },
  {
   "cell_type": "code",
   "execution_count": null,
   "id": "60119edb-a344-4cbf-9f3c-106971d6594e",
   "metadata": {},
   "outputs": [
    {
     "data": {
      "text/plain": [
       "array([[[1, 4, 7],\n",
       "        [2, 5, 8],\n",
       "        [3, 6, 9]]])"
      ]
     },
     "execution_count": 146,
     "metadata": {},
     "output_type": "execute_result"
    }
   ],
   "source": [
    "b.transpose()"
   ]
  },
  {
   "cell_type": "code",
   "execution_count": null,
   "id": "319cc3b2-ebb7-42d3-bd3a-e1742a5a9b87",
   "metadata": {},
   "outputs": [
    {
     "data": {
      "text/plain": [
       "array([[[1, 4, 7],\n",
       "        [2, 5, 8],\n",
       "        [3, 6, 9]]])"
      ]
     },
     "execution_count": 147,
     "metadata": {},
     "output_type": "execute_result"
    }
   ],
   "source": [
    "b.T"
   ]
  },
  {
   "cell_type": "code",
   "execution_count": null,
   "id": "0d13e946-41c5-49fe-9dab-eaaac08fba98",
   "metadata": {},
   "outputs": [
    {
     "data": {
      "text/plain": [
       "array([[[1],\n",
       "        [2],\n",
       "        [3]],\n",
       "\n",
       "       [[4],\n",
       "        [5],\n",
       "        [6]],\n",
       "\n",
       "       [[7],\n",
       "        [8],\n",
       "        [9]]])"
      ]
     },
     "execution_count": 148,
     "metadata": {},
     "output_type": "execute_result"
    }
   ],
   "source": [
    "b"
   ]
  },
  {
   "cell_type": "code",
   "execution_count": null,
   "id": "4dccc284-9a68-4cbd-8328-925c99e43ee5",
   "metadata": {},
   "outputs": [],
   "source": [
    "c = b.transpose()"
   ]
  },
  {
   "cell_type": "code",
   "execution_count": null,
   "id": "517cd83c-9458-49de-9acf-b0cb778cd3e5",
   "metadata": {},
   "outputs": [
    {
     "data": {
      "text/plain": [
       "array([[[1, 4, 7],\n",
       "        [2, 5, 8],\n",
       "        [3, 6, 9]]])"
      ]
     },
     "execution_count": 151,
     "metadata": {},
     "output_type": "execute_result"
    }
   ],
   "source": [
    "c"
   ]
  },
  {
   "cell_type": "code",
   "execution_count": null,
   "id": "3ba081c2-2e1e-4ced-b5db-a4d714ba8fc5",
   "metadata": {},
   "outputs": [],
   "source": [
    "d = c.flatten()"
   ]
  },
  {
   "cell_type": "code",
   "execution_count": null,
   "id": "0ac5f96b-0a05-44a7-97dc-50008bc089c7",
   "metadata": {},
   "outputs": [
    {
     "data": {
      "text/plain": [
       "array([1, 4, 7, 2, 5, 8, 3, 6, 9])"
      ]
     },
     "execution_count": 153,
     "metadata": {},
     "output_type": "execute_result"
    }
   ],
   "source": [
    "d"
   ]
  },
  {
   "cell_type": "code",
   "execution_count": null,
   "id": "f229f226-0060-4c48-9c49-6492a9933f31",
   "metadata": {},
   "outputs": [],
   "source": [
    "e = c.reshape(c.size) "
   ]
  },
  {
   "cell_type": "code",
   "execution_count": null,
   "id": "8e00f6fa-bf00-46ea-ae6b-b101096e8242",
   "metadata": {},
   "outputs": [
    {
     "data": {
      "text/plain": [
       "array([1, 4, 7, 2, 5, 8, 3, 6, 9])"
      ]
     },
     "execution_count": 155,
     "metadata": {},
     "output_type": "execute_result"
    }
   ],
   "source": [
    "e"
   ]
  },
  {
   "cell_type": "code",
   "execution_count": null,
   "id": "8703e0a1-7372-4b4f-9f49-37caacfbc795",
   "metadata": {},
   "outputs": [
    {
     "data": {
      "text/plain": [
       "array([ True,  True,  True,  True,  True,  True,  True,  True,  True])"
      ]
     },
     "execution_count": 156,
     "metadata": {},
     "output_type": "execute_result"
    }
   ],
   "source": [
    "d == e"
   ]
  },
  {
   "cell_type": "code",
   "execution_count": null,
   "id": "5234514f-b050-49e1-b75b-a9c9a26eed3d",
   "metadata": {},
   "outputs": [
    {
     "data": {
      "text/plain": [
       "False"
      ]
     },
     "execution_count": 157,
     "metadata": {},
     "output_type": "execute_result"
    }
   ],
   "source": [
    "d is e"
   ]
  },
  {
   "cell_type": "code",
   "execution_count": null,
   "id": "9cd5b604-d12c-4467-b5ee-c5c710437875",
   "metadata": {},
   "outputs": [],
   "source": [
    "r = c.ravel()"
   ]
  },
  {
   "cell_type": "code",
   "execution_count": null,
   "id": "236f72c7-e5c0-48eb-bb7e-61121a4f655b",
   "metadata": {},
   "outputs": [
    {
     "data": {
      "text/plain": [
       "array([1, 4, 7, 2, 5, 8, 3, 6, 9])"
      ]
     },
     "execution_count": 161,
     "metadata": {},
     "output_type": "execute_result"
    }
   ],
   "source": [
    "r"
   ]
  },
  {
   "cell_type": "code",
   "execution_count": null,
   "id": "828510cf-b280-4f63-af79-c7bbc1f16de1",
   "metadata": {},
   "outputs": [
    {
     "data": {
      "text/plain": [
       "array([ True,  True,  True,  True,  True,  True,  True,  True,  True])"
      ]
     },
     "execution_count": 162,
     "metadata": {},
     "output_type": "execute_result"
    }
   ],
   "source": [
    "r == d"
   ]
  },
  {
   "cell_type": "code",
   "execution_count": null,
   "id": "06284c1a-85eb-4c15-adce-9cfae220fcbf",
   "metadata": {},
   "outputs": [
    {
     "data": {
      "text/plain": [
       "False"
      ]
     },
     "execution_count": 164,
     "metadata": {},
     "output_type": "execute_result"
    }
   ],
   "source": [
    "r is d"
   ]
  },
  {
   "cell_type": "code",
   "execution_count": null,
   "id": "a5e1ab70-9d53-426e-8299-9e983ec7c477",
   "metadata": {},
   "outputs": [],
   "source": [
    "r[0] = 3"
   ]
  },
  {
   "cell_type": "code",
   "execution_count": null,
   "id": "d57edd33-d544-45ab-acbd-a83dd653884f",
   "metadata": {},
   "outputs": [
    {
     "data": {
      "text/plain": [
       "array([3, 4, 7, 2, 5, 8, 3, 6, 9])"
      ]
     },
     "execution_count": 166,
     "metadata": {},
     "output_type": "execute_result"
    }
   ],
   "source": [
    "r"
   ]
  },
  {
   "cell_type": "code",
   "execution_count": null,
   "id": "5dcb9e7f-4da3-40d9-aa2a-7ad8368950bf",
   "metadata": {},
   "outputs": [
    {
     "data": {
      "text/plain": [
       "array([[[1, 4, 7],\n",
       "        [2, 5, 8],\n",
       "        [3, 6, 9]]])"
      ]
     },
     "execution_count": 167,
     "metadata": {},
     "output_type": "execute_result"
    }
   ],
   "source": [
    "c"
   ]
  },
  {
   "cell_type": "code",
   "execution_count": null,
   "id": "3a8c89d9-f60d-441f-913c-d08ba2aa39cc",
   "metadata": {},
   "outputs": [],
   "source": [
    "e[1]= 123"
   ]
  },
  {
   "cell_type": "code",
   "execution_count": null,
   "id": "ee3cdbd6-6d6b-4789-a873-faaa28a5a95f",
   "metadata": {},
   "outputs": [
    {
     "data": {
      "text/plain": [
       "array([  1, 123,   7,   2,   5,   8,   3,   6,   9])"
      ]
     },
     "execution_count": 175,
     "metadata": {},
     "output_type": "execute_result"
    }
   ],
   "source": [
    "e"
   ]
  },
  {
   "cell_type": "code",
   "execution_count": null,
   "id": "914e2445-e5f9-403b-8df9-f04577fc6704",
   "metadata": {},
   "outputs": [
    {
     "data": {
      "text/plain": [
       "array([], shape=(1, 1, 0, 1, 1, 1, 1, 1, 3, 3), dtype=int32)"
      ]
     },
     "execution_count": 205,
     "metadata": {},
     "output_type": "execute_result"
    }
   ],
   "source": [
    "c"
   ]
  },
  {
   "cell_type": "code",
   "execution_count": null,
   "id": "a17ce631-61c8-4e58-a8a7-a8313b3c1c71",
   "metadata": {},
   "outputs": [],
   "source": [
    "d[-1] = 123"
   ]
  },
  {
   "cell_type": "code",
   "execution_count": null,
   "id": "37d8c79f-436b-4eff-ae96-fc537ff8b2e7",
   "metadata": {},
   "outputs": [
    {
     "data": {
      "text/plain": [
       "array([  1,   4,   7,   2,   5,   8,   3,   6, 123])"
      ]
     },
     "execution_count": 207,
     "metadata": {},
     "output_type": "execute_result"
    }
   ],
   "source": [
    "d"
   ]
  },
  {
   "cell_type": "code",
   "execution_count": null,
   "id": "5b98ec2d-4c4c-46a9-af9d-9ca8dc8a41dc",
   "metadata": {},
   "outputs": [
    {
     "data": {
      "text/plain": [
       "array([], shape=(1, 1, 0, 1, 1, 1, 1, 1, 3, 3), dtype=int32)"
      ]
     },
     "execution_count": 208,
     "metadata": {},
     "output_type": "execute_result"
    }
   ],
   "source": [
    "c"
   ]
  },
  {
   "cell_type": "code",
   "execution_count": null,
   "id": "34c57b45-a423-40ae-a75a-a5a4250f7e0b",
   "metadata": {},
   "outputs": [
    {
     "data": {
      "text/plain": [
       "(1, 1, 0, 1, 1, 1, 1, 1, 3, 3)"
      ]
     },
     "execution_count": 209,
     "metadata": {},
     "output_type": "execute_result"
    }
   ],
   "source": [
    "c.shape"
   ]
  },
  {
   "cell_type": "code",
   "execution_count": null,
   "id": "9aec70c6-5c2f-4dd6-9a1f-ff35cbb5c3fd",
   "metadata": {},
   "outputs": [],
   "source": [
    "c = c[:,:,np.newaxis == -2] #动态添加维度"
   ]
  },
  {
   "cell_type": "code",
   "execution_count": null,
   "id": "b55c3a42-d87e-4238-8be2-d11e9c582fb1",
   "metadata": {},
   "outputs": [
    {
     "data": {
      "text/plain": [
       "(1, 1, 0, 0, 0, 0, 0, 0, 1, 1, 1, 1, 1, 3, 3)"
      ]
     },
     "execution_count": 231,
     "metadata": {},
     "output_type": "execute_result"
    }
   ],
   "source": [
    "c.shape"
   ]
  },
  {
   "cell_type": "code",
   "execution_count": null,
   "id": "274e8a41-1e08-4e37-8e0b-d6aa2a3dc87d",
   "metadata": {},
   "outputs": [
    {
     "data": {
      "text/plain": [
       "array([], shape=(1, 1, 0, 1, 1, 1, 1, 1, 3, 3), dtype=int32)"
      ]
     },
     "execution_count": 202,
     "metadata": {},
     "output_type": "execute_result"
    }
   ],
   "source": [
    "c"
   ]
  },
  {
   "cell_type": "code",
   "execution_count": null,
   "id": "5c7c7261-d13e-484f-9485-e474ee89436b",
   "metadata": {},
   "outputs": [],
   "source": [
    "a = np.array([[1,2],[3,4],[5,6]])\n",
    "b = np.ones((3,2))"
   ]
  },
  {
   "cell_type": "code",
   "execution_count": null,
   "id": "a2fa53bf-a488-4e41-8893-eddcfb648b14",
   "metadata": {},
   "outputs": [
    {
     "data": {
      "text/plain": [
       "array([[1, 2],\n",
       "       [3, 4],\n",
       "       [5, 6]])"
      ]
     },
     "execution_count": 215,
     "metadata": {},
     "output_type": "execute_result"
    }
   ],
   "source": [
    "a"
   ]
  },
  {
   "cell_type": "code",
   "execution_count": null,
   "id": "d7248f8a-ed77-4f08-83af-5b98b0bdc972",
   "metadata": {},
   "outputs": [
    {
     "data": {
      "text/plain": [
       "array([[1., 1.],\n",
       "       [1., 1.],\n",
       "       [1., 1.]])"
      ]
     },
     "execution_count": 216,
     "metadata": {},
     "output_type": "execute_result"
    }
   ],
   "source": [
    "b"
   ]
  },
  {
   "cell_type": "code",
   "execution_count": null,
   "id": "f1de1be8-3110-45b0-8da9-e9a77692a80b",
   "metadata": {},
   "outputs": [
    {
     "data": {
      "text/plain": [
       "array([[2., 3.],\n",
       "       [4., 5.],\n",
       "       [6., 7.]])"
      ]
     },
     "execution_count": 217,
     "metadata": {},
     "output_type": "execute_result"
    }
   ],
   "source": [
    "a + b"
   ]
  },
  {
   "cell_type": "code",
   "execution_count": null,
   "id": "ef708f69-b09f-446a-8dee-99b2a9e576ba",
   "metadata": {},
   "outputs": [],
   "source": [
    "d=a @ b.T"
   ]
  },
  {
   "cell_type": "code",
   "execution_count": null,
   "id": "1c58ee95-f251-4ce1-b794-fb3f9bc37ecb",
   "metadata": {},
   "outputs": [
    {
     "data": {
      "text/plain": [
       "array([[0., 1.],\n",
       "       [2., 3.],\n",
       "       [4., 5.]])"
      ]
     },
     "execution_count": 220,
     "metadata": {},
     "output_type": "execute_result"
    }
   ],
   "source": [
    "a - b"
   ]
  },
  {
   "cell_type": "code",
   "execution_count": null,
   "id": "c9d98e24-b135-4a9c-be0e-ea4dca411433",
   "metadata": {},
   "outputs": [
    {
     "data": {
      "text/plain": [
       "array([[ 3.,  3.,  3.],\n",
       "       [ 7.,  7.,  7.],\n",
       "       [11., 11., 11.]])"
      ]
     },
     "execution_count": 223,
     "metadata": {},
     "output_type": "execute_result"
    }
   ],
   "source": [
    "np.matmul(a,b.T)"
   ]
  },
  {
   "cell_type": "code",
   "execution_count": null,
   "id": "aca7dfc0-234a-44a1-8b93-d8feeceda0fc",
   "metadata": {},
   "outputs": [
    {
     "data": {
      "text/plain": [
       "21"
      ]
     },
     "execution_count": 233,
     "metadata": {},
     "output_type": "execute_result"
    }
   ],
   "source": [
    "a.sum() #所有元素的加和"
   ]
  },
  {
   "cell_type": "code",
   "execution_count": null,
   "id": "313d7637-72f2-4bae-820e-d17a0be6ae3c",
   "metadata": {},
   "outputs": [
    {
     "data": {
      "text/plain": [
       "720"
      ]
     },
     "execution_count": 235,
     "metadata": {},
     "output_type": "execute_result"
    }
   ],
   "source": [
    "a.prod() #所有元素的乘积"
   ]
  },
  {
   "cell_type": "code",
   "execution_count": null,
   "id": "098eb411-983a-47c8-aa89-8ca068623389",
   "metadata": {},
   "outputs": [
    {
     "data": {
      "text/plain": [
       "3.5"
      ]
     },
     "execution_count": 236,
     "metadata": {},
     "output_type": "execute_result"
    }
   ],
   "source": [
    "a.mean() #均值"
   ]
  },
  {
   "cell_type": "code",
   "execution_count": null,
   "id": "4f806d10-e854-4877-8fd7-afecb5140599",
   "metadata": {},
   "outputs": [
    {
     "data": {
      "text/plain": [
       "2.9166666666666665"
      ]
     },
     "execution_count": 245,
     "metadata": {},
     "output_type": "execute_result"
    }
   ],
   "source": [
    "a.var() #方差"
   ]
  },
  {
   "cell_type": "code",
   "execution_count": null,
   "id": "8ab17817-52ea-4f9a-9287-83a70ec25162",
   "metadata": {},
   "outputs": [
    {
     "data": {
      "text/plain": [
       "1.707825127659933"
      ]
     },
     "execution_count": 244,
     "metadata": {},
     "output_type": "execute_result"
    }
   ],
   "source": [
    "a.std() #标准差"
   ]
  },
  {
   "cell_type": "code",
   "execution_count": null,
   "id": "61751b4a-1373-4c61-9e0c-f24b46dbd10d",
   "metadata": {},
   "outputs": [
    {
     "data": {
      "text/plain": [
       "6"
      ]
     },
     "execution_count": 243,
     "metadata": {},
     "output_type": "execute_result"
    }
   ],
   "source": [
    "a.max() #最大值"
   ]
  },
  {
   "cell_type": "code",
   "execution_count": null,
   "id": "9e2d3c02-0346-4720-962c-788d32b73c13",
   "metadata": {},
   "outputs": [
    {
     "data": {
      "text/plain": [
       "1"
      ]
     },
     "execution_count": 242,
     "metadata": {},
     "output_type": "execute_result"
    }
   ],
   "source": [
    "a.min() #最小值"
   ]
  },
  {
   "cell_type": "code",
   "execution_count": null,
   "id": "9aa785b1-ea62-40a9-9c4a-c35ce2fde70b",
   "metadata": {},
   "outputs": [
    {
     "data": {
      "text/plain": [
       "array([[ 3.,  3.,  3.],\n",
       "       [ 7.,  7.,  7.],\n",
       "       [11., 11., 11.]])"
      ]
     },
     "execution_count": 254,
     "metadata": {},
     "output_type": "execute_result"
    }
   ],
   "source": [
    "d"
   ]
  },
  {
   "cell_type": "code",
   "execution_count": null,
   "id": "c0234b94-5cac-4fe8-a200-0c0604f1d8a9",
   "metadata": {},
   "outputs": [
    {
     "data": {
      "text/plain": [
       "6"
      ]
     },
     "execution_count": 253,
     "metadata": {},
     "output_type": "execute_result"
    }
   ],
   "source": [
    "# 定位元素的位置\n",
    "d.argmax() #最大值的索引位置"
   ]
  },
  {
   "cell_type": "code",
   "execution_count": null,
   "id": "9dd3a7f0-04ac-4cc4-a58a-38d2a598e7fc",
   "metadata": {},
   "outputs": [
    {
     "data": {
      "text/plain": [
       "0"
      ]
     },
     "execution_count": 256,
     "metadata": {},
     "output_type": "execute_result"
    }
   ],
   "source": [
    "d.argmin()#最小值的索引位置"
   ]
  },
  {
   "cell_type": "code",
   "execution_count": null,
   "id": "b5e286ee-5c45-4be0-9ae6-4efedf455042",
   "metadata": {},
   "outputs": [
    {
     "data": {
      "text/plain": [
       "array([[ 3.,  3.,  3.],\n",
       "       [ 7.,  7.,  7.],\n",
       "       [11., 11., 11.]])"
      ]
     },
     "execution_count": 258,
     "metadata": {},
     "output_type": "execute_result"
    }
   ],
   "source": [
    "np.ceil(d)"
   ]
  },
  {
   "cell_type": "code",
   "execution_count": null,
   "id": "afddda2b-42ee-4f94-8478-318e74812d3b",
   "metadata": {},
   "outputs": [],
   "source": [
    "a = np.random.rand(1,10)"
   ]
  },
  {
   "cell_type": "code",
   "execution_count": null,
   "id": "19f4b5c2-bb6d-44bc-9bf1-992e7cf68147",
   "metadata": {},
   "outputs": [
    {
     "data": {
      "text/plain": [
       "array([[0.86118216, 0.32208248, 0.72521527, 0.76791214, 0.15965844,\n",
       "        0.76261774, 0.21655902, 0.99492293, 0.1215449 , 0.74380468]])"
      ]
     },
     "execution_count": 261,
     "metadata": {},
     "output_type": "execute_result"
    }
   ],
   "source": [
    "a"
   ]
  },
  {
   "cell_type": "code",
   "execution_count": null,
   "id": "4d672296-e927-4819-9095-27e9cddc1663",
   "metadata": {},
   "outputs": [
    {
     "data": {
      "text/plain": [
       "array([[1., 1., 1., 1., 1., 1., 1., 1., 1., 1.]])"
      ]
     },
     "execution_count": 266,
     "metadata": {},
     "output_type": "execute_result"
    }
   ],
   "source": [
    "np.ceil(a) #向上取整"
   ]
  },
  {
   "cell_type": "code",
   "execution_count": null,
   "id": "9d68b055-f6f7-4556-b00c-896342d6a1c6",
   "metadata": {},
   "outputs": [
    {
     "data": {
      "text/plain": [
       "array([[0., 0., 0., 0., 0., 0., 0., 0., 0., 0.]])"
      ]
     },
     "execution_count": 267,
     "metadata": {},
     "output_type": "execute_result"
    }
   ],
   "source": [
    "np.floor(a) #向下取整"
   ]
  },
  {
   "cell_type": "code",
   "execution_count": null,
   "id": "3f2bec64-22cf-486c-8471-b8747b7c96b7",
   "metadata": {},
   "outputs": [
    {
     "data": {
      "text/plain": [
       "array([[1., 0., 1., 1., 0., 1., 0., 1., 0., 1.]])"
      ]
     },
     "execution_count": 268,
     "metadata": {},
     "output_type": "execute_result"
    }
   ],
   "source": [
    "np.rint(a) #四舍五入"
   ]
  },
  {
   "cell_type": "code",
   "execution_count": null,
   "id": "5fa8b061-2ea7-4f6b-848d-8203d30387c8",
   "metadata": {},
   "outputs": [],
   "source": [
    "a.sort() #正向排序"
   ]
  },
  {
   "cell_type": "code",
   "execution_count": null,
   "id": "019b2841-b211-45fc-a502-05b2f0b871d0",
   "metadata": {},
   "outputs": [
    {
     "data": {
      "text/plain": [
       "array([[0.1215449 , 0.15965844, 0.21655902, 0.32208248, 0.72521527,\n",
       "        0.74380468, 0.76261774, 0.76791214, 0.86118216, 0.99492293]])"
      ]
     },
     "execution_count": 272,
     "metadata": {},
     "output_type": "execute_result"
    }
   ],
   "source": [
    "a"
   ]
  },
  {
   "cell_type": "code",
   "execution_count": null,
   "id": "75f9f78a-8776-443d-8c17-584ecf65ea50",
   "metadata": {},
   "outputs": [
    {
     "ename": "TypeError",
     "evalue": "sort() got an unexpected keyword argument 'reverse'",
     "output_type": "error",
     "traceback": [
      "\u001b[1;31m---------------------------------------------------------------------------\u001b[0m",
      "\u001b[1;31mTypeError\u001b[0m                                 Traceback (most recent call last)",
      "Cell \u001b[1;32mIn[275], line 1\u001b[0m\n\u001b[1;32m----> 1\u001b[0m \u001b[43ma\u001b[49m\u001b[38;5;241;43m.\u001b[39;49m\u001b[43msort\u001b[49m\u001b[43m(\u001b[49m\u001b[43mreverse\u001b[49m\u001b[43m \u001b[49m\u001b[38;5;241;43m=\u001b[39;49m\u001b[43m \u001b[49m\u001b[38;5;28;43;01mTrue\u001b[39;49;00m\u001b[43m)\u001b[49m\n",
      "\u001b[1;31mTypeError\u001b[0m: sort() got an unexpected keyword argument 'reverse'"
     ]
    }
   ],
   "source": [
    "a.sort(reverse = True)"
   ]
  },
  {
   "cell_type": "code",
   "execution_count": null,
   "id": "452412d5-c9e3-4c86-8754-9f9e326b21f1",
   "metadata": {},
   "outputs": [],
   "source": [
    "# abs、sign、sqrt、log、log10、exp\\sin\\cos\\tan\\arcsin\\arccos\\arctan\\sinh\\cosh\\tanh\\arcsinh\\arccosh\\arctanh"
   ]
  },
  {
   "cell_type": "code",
   "execution_count": null,
   "id": "094151c2-f31e-4c9a-9cc2-db2e80e36495",
   "metadata": {},
   "outputs": [],
   "source": []
  }
 ],
 "metadata": {
  "kernelspec": {
   "display_name": "py312",
   "language": "python",
   "name": "python3"
  },
  "language_info": {
   "codemirror_mode": {
    "name": "ipython",
    "version": 3
   },
   "file_extension": ".py",
   "mimetype": "text/x-python",
   "name": "python",
   "nbconvert_exporter": "python",
   "pygments_lexer": "ipython3",
   "version": "3.12.9"
  }
 },
 "nbformat": 4,
 "nbformat_minor": 5
}
