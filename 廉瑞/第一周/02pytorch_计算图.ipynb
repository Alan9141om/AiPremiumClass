{
 "cells": [
  {
   "cell_type": "code",
   "execution_count": 11,
   "id": "e446df6f-06e6-4597-9dde-d45822af5559",
   "metadata": {},
   "outputs": [],
   "source": [
    "import torch\n",
    "import numpy as np\n",
    "from torchviz import make_dot\n",
    "import torch.nn as nn"
   ]
  },
  {
   "cell_type": "markdown",
   "id": "ae3c38f4-1cea-40c1-8a5b-fd9998c656df",
   "metadata": {},
   "source": [
    "计算图：所有深度学习框架（包括pytorch和TensorFlow）对计算图都有依赖，用来完成梯度下降（即求导），优化梯度等计算。!有向无环图!"
   ]
  },
  {
   "cell_type": "markdown",
   "id": "53b47269-122a-48e9-bf81-69252f6d2bfc",
   "metadata": {},
   "source": [
    "计算图的创建包含两部分：\n",
    "1、用户构建前向传播图\n",
    "2、框架处理后向传播（梯度更新）"
   ]
  },
  {
   "cell_type": "markdown",
   "id": "6b22b822-0103-4544-97da-5c3c1ae78f59",
   "metadata": {},
   "source": [
    "包括两种：\n",
    "1、静态计算图：TensorFlow1.X使用，\n",
    "两个阶段：\n",
    "1，定义一个架构（使用一些基本的流控制方法，比如循环和条件指令）\n",
    "2、\n"
   ]
  },
  {
   "cell_type": "markdown",
   "id": "cdd4e32a-8132-42c4-bb7a-a6997876254b",
   "metadata": {},
   "source": [
    "2、动态计算图：TensorFlow2.x和pytorch使用\n",
    "执行正向计算时，隐式的定义图（动态构建）\n",
    "优点：灵活，侵入性小，允许动态构建和评估\n",
    "缺点：难以优化"
   ]
  },
  {
   "cell_type": "markdown",
   "id": "9d01fe17-de2b-4d03-b89a-17f3c799c604",
   "metadata": {},
   "source": [
    "比较：动态计算图更友好，允许逐行执行代码调试，可以访问所有张量，便于分析过程中的问题。"
   ]
  },
  {
   "cell_type": "code",
   "execution_count": null,
   "id": "d8c1826a-196a-464a-97a4-cc1304b4e5d2",
   "metadata": {},
   "outputs": [],
   "source": [
    "# 计算 x^T *A + b * x +c"
   ]
  },
  {
   "cell_type": "code",
   "execution_count": null,
   "id": "deb1e81d-777b-4a2f-9b6e-cf4c74d62f4c",
   "metadata": {},
   "outputs": [
    {
     "data": {
      "text/plain": [
       "'graph.png'"
      ]
     },
     "execution_count": 17,
     "metadata": {},
     "output_type": "execute_result"
    }
   ],
   "source": [
    "A = torch.randn(10,10,requires_grad = True)\n",
    "x = torch.randn(10,requires_grad = True)\n",
    "b = torch.randn(1,requires_grad = True)\n",
    "c = torch.randn(10,requires_grad = True)\n",
    "result = torch.matmul(A,x) + x * b + c\n",
    "make_dot(result, params={'A': A, 'x': x,'b': b,'c': c}).render(\"graph\", format=\"png\")"
   ]
  },
  {
   "cell_type": "code",
   "execution_count": 18,
   "id": "067b4a82-a8bf-49a2-b5ee-c9e5de37664e",
   "metadata": {},
   "outputs": [
    {
     "data": {
      "text/plain": [
       "'graph2.png'"
      ]
     },
     "execution_count": 18,
     "metadata": {},
     "output_type": "execute_result"
    }
   ],
   "source": [
    "A = torch.randn(10, 10, requires_grad=True)\n",
    "x = torch.randn(10, requires_grad=True)\n",
    "b = torch.randn(1, requires_grad=True)\n",
    "c = torch.randn(10, requires_grad=True)\n",
    "\n",
    "# 修正矩阵乘法和维度问题\n",
    "term1 = torch.matmul(A, x)          # 正确矩阵-向量乘法 (10,10) @ (10,) → (10,)\n",
    "term2 = x * b                       # 逐元素乘法 (10,) * (1,) → (10,)\n",
    "result = term1 + term2 + c          # 所有项形状为 (10,)\n",
    "\n",
    "# 生成计算图\n",
    "make_dot(result, params={'A': A, 'x': x, 'b': b, 'c': c}).render(\"graph2\", format=\"png\")"
   ]
  },
  {
   "cell_type": "code",
   "execution_count": 9,
   "id": "423a6a7b-25c2-43d3-a476-0d1dfd14805a",
   "metadata": {},
   "outputs": [
    {
     "data": {
      "text/plain": [
       "tensor([[ 0.3186,  0.7454, -0.0154,  0.3127,  0.9157,  1.1265, -0.6962,  1.0130,\n",
       "         -0.6494, -0.7287],\n",
       "        [ 1.9336, -0.1611, -0.6266, -1.5182, -1.2276, -2.0333, -0.9608, -1.5453,\n",
       "          2.2191, -0.5200],\n",
       "        [-0.7021,  0.4765, -0.4799,  0.7325, -0.9601,  1.3206,  0.0779, -1.3229,\n",
       "          0.7701,  1.0585],\n",
       "        [-0.8512, -0.5709,  0.1743,  0.4065, -1.5327, -0.0700,  0.5847,  0.6792,\n",
       "          1.5213, -2.0923],\n",
       "        [ 0.8228, -0.9738, -0.2882,  0.5834, -0.4781,  1.5311,  2.2954,  2.3473,\n",
       "         -0.0648, -0.5406],\n",
       "        [ 0.4783,  1.6168, -0.2780, -0.0600, -2.5612,  1.1720,  0.0178,  0.2687,\n",
       "          1.6955, -2.4262],\n",
       "        [-0.5972,  0.2397,  0.7952,  0.0935,  1.1756,  1.4180, -0.6185, -0.8614,\n",
       "          1.9987,  1.6267],\n",
       "        [ 0.3105, -0.5855, -0.4719, -1.7612,  0.7601, -0.1554, -0.4618,  0.6943,\n",
       "          0.3179, -0.5331],\n",
       "        [-0.5121,  1.7584, -1.3810, -0.7066, -0.0194,  1.1660,  0.6990,  1.1199,\n",
       "          0.8940,  0.3906],\n",
       "        [-0.0545, -1.2413, -0.2764, -0.1077,  0.2503, -0.9966,  0.2036,  1.1135,\n",
       "          0.1008, -0.1278]], requires_grad=True)"
      ]
     },
     "execution_count": 9,
     "metadata": {},
     "output_type": "execute_result"
    }
   ],
   "source": [
    "A"
   ]
  },
  {
   "cell_type": "code",
   "execution_count": 10,
   "id": "0b800d2c-2566-4ce7-be4b-a73f09d51867",
   "metadata": {},
   "outputs": [
    {
     "data": {
      "text/plain": [
       "tensor([ 0.8074,  0.4486,  0.9045,  0.4789,  0.7230,  0.7245, -0.1680, -0.4678,\n",
       "        -1.3455,  1.5993], requires_grad=True)"
      ]
     },
     "execution_count": 10,
     "metadata": {},
     "output_type": "execute_result"
    }
   ],
   "source": [
    "x"
   ]
  },
  {
   "cell_type": "code",
   "execution_count": 11,
   "id": "c5db217e-6100-4e4a-8a18-1fc6d8fd1bfc",
   "metadata": {},
   "outputs": [
    {
     "data": {
      "text/plain": [
       "tensor([-0.4164], requires_grad=True)"
      ]
     },
     "execution_count": 11,
     "metadata": {},
     "output_type": "execute_result"
    }
   ],
   "source": [
    "b"
   ]
  },
  {
   "cell_type": "code",
   "execution_count": 12,
   "id": "600b8c72-082e-41d6-9427-a302a2f17c15",
   "metadata": {},
   "outputs": [
    {
     "data": {
      "text/plain": [
       "tensor([-1.1022, -0.8163, -0.1206, -0.2938,  0.1579, -0.9608, -3.0154, -1.4459,\n",
       "         0.9075,  0.9205], requires_grad=True)"
      ]
     },
     "execution_count": 12,
     "metadata": {},
     "output_type": "execute_result"
    }
   ],
   "source": [
    "c"
   ]
  },
  {
   "cell_type": "code",
   "execution_count": 19,
   "id": "bbc16e54-c08f-4b59-b316-55a848e58ab9",
   "metadata": {},
   "outputs": [
    {
     "name": "stdout",
     "output_type": "stream",
     "text": [
      "Epoch 0, Loss: 0.2763161063194275\n",
      "Epoch 1, Loss: 0.2729295790195465\n",
      "Epoch 2, Loss: 0.269633024930954\n",
      "Epoch 3, Loss: 0.2664233148097992\n",
      "Epoch 4, Loss: 0.26329755783081055\n",
      "Epoch 5, Loss: 0.26025280356407166\n",
      "Epoch 6, Loss: 0.2572864592075348\n",
      "Epoch 7, Loss: 0.25439584255218506\n",
      "Epoch 8, Loss: 0.2515784204006195\n",
      "Epoch 9, Loss: 0.2488318383693695\n",
      "Epoch 10, Loss: 0.24615375697612762\n",
      "Epoch 11, Loss: 0.24354195594787598\n",
      "Epoch 12, Loss: 0.24099428951740265\n",
      "Epoch 13, Loss: 0.23850873112678528\n",
      "Epoch 14, Loss: 0.2360832691192627\n",
      "Epoch 15, Loss: 0.23371610045433044\n",
      "Epoch 16, Loss: 0.2314053326845169\n",
      "Epoch 17, Loss: 0.22914919257164001\n",
      "Epoch 18, Loss: 0.22694608569145203\n",
      "Epoch 19, Loss: 0.22479434311389923\n",
      "Epoch 20, Loss: 0.2226923704147339\n",
      "Epoch 21, Loss: 0.220638707280159\n",
      "Epoch 22, Loss: 0.21863193809986115\n",
      "Epoch 23, Loss: 0.21667058765888214\n",
      "Epoch 24, Loss: 0.21475335955619812\n",
      "Epoch 25, Loss: 0.21287901699543\n",
      "Epoch 26, Loss: 0.21104618906974792\n",
      "Epoch 27, Loss: 0.20925378799438477\n",
      "Epoch 28, Loss: 0.207500621676445\n",
      "Epoch 29, Loss: 0.2057856023311615\n",
      "Epoch 30, Loss: 0.20410756766796112\n",
      "Epoch 31, Loss: 0.20246560871601105\n",
      "Epoch 32, Loss: 0.20085859298706055\n",
      "Epoch 33, Loss: 0.19928565621376038\n",
      "Epoch 34, Loss: 0.19774582982063293\n",
      "Epoch 35, Loss: 0.196238175034523\n",
      "Epoch 36, Loss: 0.19476185739040375\n",
      "Epoch 37, Loss: 0.1933160424232483\n",
      "Epoch 38, Loss: 0.19189989566802979\n",
      "Epoch 39, Loss: 0.19051268696784973\n",
      "Epoch 40, Loss: 0.18915358185768127\n",
      "Epoch 41, Loss: 0.1878218948841095\n",
      "Epoch 42, Loss: 0.1865169107913971\n",
      "Epoch 43, Loss: 0.18523794412612915\n",
      "Epoch 44, Loss: 0.18398427963256836\n",
      "Epoch 45, Loss: 0.18275535106658936\n",
      "Epoch 46, Loss: 0.18155047297477722\n",
      "Epoch 47, Loss: 0.1803690791130066\n",
      "Epoch 48, Loss: 0.1792105883359909\n",
      "Epoch 49, Loss: 0.1780744343996048\n",
      "Epoch 50, Loss: 0.1769600361585617\n",
      "Epoch 51, Loss: 0.17586687207221985\n",
      "Epoch 52, Loss: 0.17479445040225983\n",
      "Epoch 53, Loss: 0.17374227941036224\n",
      "Epoch 54, Loss: 0.1727098524570465\n",
      "Epoch 55, Loss: 0.1716967076063156\n",
      "Epoch 56, Loss: 0.17070236802101135\n",
      "Epoch 57, Loss: 0.1697264164686203\n",
      "Epoch 58, Loss: 0.16876843571662903\n",
      "Epoch 59, Loss: 0.16782799363136292\n",
      "Epoch 60, Loss: 0.16690465807914734\n",
      "Epoch 61, Loss: 0.16599807143211365\n",
      "Epoch 62, Loss: 0.1651078313589096\n",
      "Epoch 63, Loss: 0.16423361003398895\n",
      "Epoch 64, Loss: 0.16337500512599945\n",
      "Epoch 65, Loss: 0.16253165900707245\n",
      "Epoch 66, Loss: 0.16170325875282288\n",
      "Epoch 67, Loss: 0.16088950634002686\n",
      "Epoch 68, Loss: 0.16008999943733215\n",
      "Epoch 69, Loss: 0.1593044549226761\n",
      "Epoch 70, Loss: 0.15853260457515717\n",
      "Epoch 71, Loss: 0.1577741503715515\n",
      "Epoch 72, Loss: 0.1570287048816681\n",
      "Epoch 73, Loss: 0.15629610419273376\n",
      "Epoch 74, Loss: 0.15557608008384705\n",
      "Epoch 75, Loss: 0.1548682600259781\n",
      "Epoch 76, Loss: 0.15417246520519257\n",
      "Epoch 77, Loss: 0.15348844230175018\n",
      "Epoch 78, Loss: 0.15281592309474945\n",
      "Epoch 79, Loss: 0.15215465426445007\n",
      "Epoch 80, Loss: 0.15150442719459534\n",
      "Epoch 81, Loss: 0.15086500346660614\n",
      "Epoch 82, Loss: 0.15023620426654816\n",
      "Epoch 83, Loss: 0.1496177464723587\n",
      "Epoch 84, Loss: 0.14900945127010345\n",
      "Epoch 85, Loss: 0.1484111100435257\n",
      "Epoch 86, Loss: 0.1478225290775299\n",
      "Epoch 87, Loss: 0.14724349975585938\n",
      "Epoch 88, Loss: 0.14667384326457977\n",
      "Epoch 89, Loss: 0.14611336588859558\n",
      "Epoch 90, Loss: 0.14556190371513367\n",
      "Epoch 91, Loss: 0.1450192630290985\n",
      "Epoch 92, Loss: 0.14448527991771698\n",
      "Epoch 93, Loss: 0.14395976066589355\n",
      "Epoch 94, Loss: 0.1434425711631775\n",
      "Epoch 95, Loss: 0.14293353259563446\n",
      "Epoch 96, Loss: 0.14243252575397491\n",
      "Epoch 97, Loss: 0.14193935692310333\n",
      "Epoch 98, Loss: 0.1414538323879242\n",
      "Epoch 99, Loss: 0.14097590744495392\n"
     ]
    }
   ],
   "source": [
    "model = nn.Linear(3, 1)          # 简单线性模型\n",
    "optimizer = torch.optim.SGD(model.parameters(), lr=0.01)\n",
    "criterion = nn.MSELoss()\n",
    "\n",
    "# 模拟数据\n",
    "x = torch.randn(10, 3)           # 10个样本，3维特征\n",
    "y_true = torch.randn(10, 1)      # 真实值\n",
    "\n",
    "for epoch in range(100):\n",
    "    # 前向传播\n",
    "    y_pred = model(x)\n",
    "    loss = criterion(y_pred, y_true)\n",
    "    \n",
    "    # 反向传播\n",
    "    optimizer.zero_grad()        # 清空梯度\n",
    "    loss.backward()              # 计算梯度\n",
    "    optimizer.step()             # 更新参数\n",
    "    \n",
    "    print(f\"Epoch {epoch}, Loss: {loss.item()}\")"
   ]
  },
  {
   "cell_type": "code",
   "execution_count": 20,
   "id": "dbfcf22c-fc44-4d0b-911d-79688079b79b",
   "metadata": {},
   "outputs": [
    {
     "name": "stdout",
     "output_type": "stream",
     "text": [
      "None\n"
     ]
    },
    {
     "data": {
      "text/plain": [
       "'Gragh0203.svg'"
      ]
     },
     "execution_count": 20,
     "metadata": {},
     "output_type": "execute_result"
    }
   ],
   "source": [
    "# 定义张量并启用梯度追踪（requires_grad = True）\n",
    "a = torch.tensor([[2.,3],[1,2]],requires_grad = True)\n",
    "b = torch.tensor([[2.,4],[2,4]],requires_grad = True)\n",
    "# 执行前向计算\n",
    "x = a + b\n",
    "y = a + 1\n",
    "z = x * y\n",
    "\n",
    "# 反向传播生成梯度\n",
    "# z.backward() #自动构建反向计算图并计算梯度\n",
    "print(a.grad)\n",
    "make_dot(z,params = {'a': a,'b': b,'x': x,'y': y}).render('Gragh0203',format = 'svg')"
   ]
  }
 ],
 "metadata": {
  "kernelspec": {
   "display_name": "py312",
   "language": "python",
   "name": "python3"
  },
  "language_info": {
   "codemirror_mode": {
    "name": "ipython",
    "version": 3
   },
   "file_extension": ".py",
   "mimetype": "text/x-python",
   "name": "python",
   "nbconvert_exporter": "python",
   "pygments_lexer": "ipython3",
   "version": "3.12.9"
  }
 },
 "nbformat": 4,
 "nbformat_minor": 5
}
